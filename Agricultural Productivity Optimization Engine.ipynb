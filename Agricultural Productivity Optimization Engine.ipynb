{
 "cells": [
  {
   "cell_type": "code",
   "execution_count": 1,
   "id": "cb7a48a3",
   "metadata": {},
   "outputs": [],
   "source": [
    "# Importing Libraries\n",
    "import pandas as pd\n",
    "import numpy as np\n",
    "\n",
    "import matplotlib.pyplot as plt\n",
    "import seaborn as sns\n",
    "\n",
    "import warnings\n",
    "warnings.filterwarnings('ignore')\n",
    "\n",
    "from ipywidgets import interact"
   ]
  },
  {
   "cell_type": "code",
   "execution_count": 2,
   "id": "b845e56a",
   "metadata": {},
   "outputs": [
    {
     "data": {
      "text/html": [
       "<div>\n",
       "<style scoped>\n",
       "    .dataframe tbody tr th:only-of-type {\n",
       "        vertical-align: middle;\n",
       "    }\n",
       "\n",
       "    .dataframe tbody tr th {\n",
       "        vertical-align: top;\n",
       "    }\n",
       "\n",
       "    .dataframe thead th {\n",
       "        text-align: right;\n",
       "    }\n",
       "</style>\n",
       "<table border=\"1\" class=\"dataframe\">\n",
       "  <thead>\n",
       "    <tr style=\"text-align: right;\">\n",
       "      <th></th>\n",
       "      <th>N</th>\n",
       "      <th>P</th>\n",
       "      <th>K</th>\n",
       "      <th>temperature</th>\n",
       "      <th>humidity</th>\n",
       "      <th>ph</th>\n",
       "      <th>rainfall</th>\n",
       "      <th>label</th>\n",
       "    </tr>\n",
       "  </thead>\n",
       "  <tbody>\n",
       "    <tr>\n",
       "      <th>0</th>\n",
       "      <td>90</td>\n",
       "      <td>42</td>\n",
       "      <td>43</td>\n",
       "      <td>20.879744</td>\n",
       "      <td>82.002744</td>\n",
       "      <td>6.502985</td>\n",
       "      <td>202.935536</td>\n",
       "      <td>rice</td>\n",
       "    </tr>\n",
       "    <tr>\n",
       "      <th>1</th>\n",
       "      <td>85</td>\n",
       "      <td>58</td>\n",
       "      <td>41</td>\n",
       "      <td>21.770462</td>\n",
       "      <td>80.319644</td>\n",
       "      <td>7.038096</td>\n",
       "      <td>226.655537</td>\n",
       "      <td>rice</td>\n",
       "    </tr>\n",
       "    <tr>\n",
       "      <th>2</th>\n",
       "      <td>60</td>\n",
       "      <td>55</td>\n",
       "      <td>44</td>\n",
       "      <td>23.004459</td>\n",
       "      <td>82.320763</td>\n",
       "      <td>7.840207</td>\n",
       "      <td>263.964248</td>\n",
       "      <td>rice</td>\n",
       "    </tr>\n",
       "    <tr>\n",
       "      <th>3</th>\n",
       "      <td>74</td>\n",
       "      <td>35</td>\n",
       "      <td>40</td>\n",
       "      <td>26.491096</td>\n",
       "      <td>80.158363</td>\n",
       "      <td>6.980401</td>\n",
       "      <td>242.864034</td>\n",
       "      <td>rice</td>\n",
       "    </tr>\n",
       "    <tr>\n",
       "      <th>4</th>\n",
       "      <td>78</td>\n",
       "      <td>42</td>\n",
       "      <td>42</td>\n",
       "      <td>20.130175</td>\n",
       "      <td>81.604873</td>\n",
       "      <td>7.628473</td>\n",
       "      <td>262.717340</td>\n",
       "      <td>rice</td>\n",
       "    </tr>\n",
       "  </tbody>\n",
       "</table>\n",
       "</div>"
      ],
      "text/plain": [
       "    N   P   K  temperature   humidity        ph    rainfall label\n",
       "0  90  42  43    20.879744  82.002744  6.502985  202.935536  rice\n",
       "1  85  58  41    21.770462  80.319644  7.038096  226.655537  rice\n",
       "2  60  55  44    23.004459  82.320763  7.840207  263.964248  rice\n",
       "3  74  35  40    26.491096  80.158363  6.980401  242.864034  rice\n",
       "4  78  42  42    20.130175  81.604873  7.628473  262.717340  rice"
      ]
     },
     "execution_count": 2,
     "metadata": {},
     "output_type": "execute_result"
    }
   ],
   "source": [
    "# Loading the dataset\n",
    "data = pd.read_csv(\"agriculture_data.csv\")\n",
    "data.head()"
   ]
  },
  {
   "cell_type": "code",
   "execution_count": 3,
   "id": "236be912",
   "metadata": {},
   "outputs": [
    {
     "data": {
      "text/html": [
       "<div>\n",
       "<style scoped>\n",
       "    .dataframe tbody tr th:only-of-type {\n",
       "        vertical-align: middle;\n",
       "    }\n",
       "\n",
       "    .dataframe tbody tr th {\n",
       "        vertical-align: top;\n",
       "    }\n",
       "\n",
       "    .dataframe thead th {\n",
       "        text-align: right;\n",
       "    }\n",
       "</style>\n",
       "<table border=\"1\" class=\"dataframe\">\n",
       "  <thead>\n",
       "    <tr style=\"text-align: right;\">\n",
       "      <th></th>\n",
       "      <th>Nitrogen</th>\n",
       "      <th>Phosphorus</th>\n",
       "      <th>Potassium</th>\n",
       "      <th>temperature</th>\n",
       "      <th>humidity</th>\n",
       "      <th>ph</th>\n",
       "      <th>rainfall</th>\n",
       "      <th>label</th>\n",
       "    </tr>\n",
       "  </thead>\n",
       "  <tbody>\n",
       "    <tr>\n",
       "      <th>0</th>\n",
       "      <td>90</td>\n",
       "      <td>42</td>\n",
       "      <td>43</td>\n",
       "      <td>20.879744</td>\n",
       "      <td>82.002744</td>\n",
       "      <td>6.502985</td>\n",
       "      <td>202.935536</td>\n",
       "      <td>rice</td>\n",
       "    </tr>\n",
       "    <tr>\n",
       "      <th>1</th>\n",
       "      <td>85</td>\n",
       "      <td>58</td>\n",
       "      <td>41</td>\n",
       "      <td>21.770462</td>\n",
       "      <td>80.319644</td>\n",
       "      <td>7.038096</td>\n",
       "      <td>226.655537</td>\n",
       "      <td>rice</td>\n",
       "    </tr>\n",
       "    <tr>\n",
       "      <th>2</th>\n",
       "      <td>60</td>\n",
       "      <td>55</td>\n",
       "      <td>44</td>\n",
       "      <td>23.004459</td>\n",
       "      <td>82.320763</td>\n",
       "      <td>7.840207</td>\n",
       "      <td>263.964248</td>\n",
       "      <td>rice</td>\n",
       "    </tr>\n",
       "    <tr>\n",
       "      <th>3</th>\n",
       "      <td>74</td>\n",
       "      <td>35</td>\n",
       "      <td>40</td>\n",
       "      <td>26.491096</td>\n",
       "      <td>80.158363</td>\n",
       "      <td>6.980401</td>\n",
       "      <td>242.864034</td>\n",
       "      <td>rice</td>\n",
       "    </tr>\n",
       "    <tr>\n",
       "      <th>4</th>\n",
       "      <td>78</td>\n",
       "      <td>42</td>\n",
       "      <td>42</td>\n",
       "      <td>20.130175</td>\n",
       "      <td>81.604873</td>\n",
       "      <td>7.628473</td>\n",
       "      <td>262.717340</td>\n",
       "      <td>rice</td>\n",
       "    </tr>\n",
       "  </tbody>\n",
       "</table>\n",
       "</div>"
      ],
      "text/plain": [
       "   Nitrogen  Phosphorus  Potassium  temperature   humidity        ph  \\\n",
       "0        90          42         43    20.879744  82.002744  6.502985   \n",
       "1        85          58         41    21.770462  80.319644  7.038096   \n",
       "2        60          55         44    23.004459  82.320763  7.840207   \n",
       "3        74          35         40    26.491096  80.158363  6.980401   \n",
       "4        78          42         42    20.130175  81.604873  7.628473   \n",
       "\n",
       "     rainfall label  \n",
       "0  202.935536  rice  \n",
       "1  226.655537  rice  \n",
       "2  263.964248  rice  \n",
       "3  242.864034  rice  \n",
       "4  262.717340  rice  "
      ]
     },
     "execution_count": 3,
     "metadata": {},
     "output_type": "execute_result"
    }
   ],
   "source": [
    "# renaming the dataset for better understanding\n",
    "data.rename(columns = {'N':'Nitrogen', \n",
    "                       'P':'Phosphorus', \n",
    "                       'K':'Potassium'}, inplace = True)\n",
    "data.head()"
   ]
  },
  {
   "cell_type": "markdown",
   "id": "00a0911a",
   "metadata": {},
   "source": [
    "---"
   ]
  },
  {
   "cell_type": "markdown",
   "id": "b679dab8",
   "metadata": {},
   "source": [
    "### Data Cleaning\n",
    "> Data Cleaning is the process of preparing raw data for analysis by removing bad data, organizing the raw data and filling in the null values. "
   ]
  },
  {
   "cell_type": "code",
   "execution_count": 4,
   "id": "f6a19d35",
   "metadata": {},
   "outputs": [
    {
     "data": {
      "text/plain": [
       "Nitrogen       0\n",
       "Phosphorus     0\n",
       "Potassium      0\n",
       "temperature    0\n",
       "humidity       0\n",
       "ph             0\n",
       "rainfall       0\n",
       "label          0\n",
       "dtype: int64"
      ]
     },
     "execution_count": 4,
     "metadata": {},
     "output_type": "execute_result"
    }
   ],
   "source": [
    "# checking for null values\n",
    "data.isnull().sum()"
   ]
  },
  {
   "cell_type": "markdown",
   "id": "b9aeb579",
   "metadata": {},
   "source": [
    "No null value is present in the dataset"
   ]
  },
  {
   "cell_type": "code",
   "execution_count": 5,
   "id": "7e43d29c",
   "metadata": {},
   "outputs": [
    {
     "data": {
      "text/plain": [
       "(2200, 8)"
      ]
     },
     "execution_count": 5,
     "metadata": {},
     "output_type": "execute_result"
    }
   ],
   "source": [
    "# dimensionality of the dataset\n",
    "data.shape"
   ]
  },
  {
   "cell_type": "markdown",
   "id": "9d9a91de",
   "metadata": {},
   "source": [
    "There are about 2200 records of crops and 8 features of crop production"
   ]
  },
  {
   "cell_type": "code",
   "execution_count": 6,
   "id": "e74fe670",
   "metadata": {},
   "outputs": [
    {
     "name": "stdout",
     "output_type": "stream",
     "text": [
      "['rice' 'maize' 'chickpea' 'kidneybeans' 'pigeonpeas' 'mothbeans'\n",
      " 'mungbean' 'blackgram' 'lentil' 'pomegranate' 'banana' 'mango' 'grapes'\n",
      " 'watermelon' 'muskmelon' 'apple' 'orange' 'papaya' 'coconut' 'cotton'\n",
      " 'jute' 'coffee']\n"
     ]
    }
   ],
   "source": [
    "# Taking a look into the labels\n",
    "list_of_crop = data['label'].unique()\n",
    "print(list_of_crop)"
   ]
  },
  {
   "cell_type": "code",
   "execution_count": 7,
   "id": "c9468f51",
   "metadata": {},
   "outputs": [
    {
     "data": {
      "text/plain": [
       "kidneybeans    100\n",
       "maize          100\n",
       "chickpea       100\n",
       "apple          100\n",
       "pomegranate    100\n",
       "watermelon     100\n",
       "lentil         100\n",
       "banana         100\n",
       "grapes         100\n",
       "jute           100\n",
       "coffee         100\n",
       "cotton         100\n",
       "blackgram      100\n",
       "mungbean       100\n",
       "pigeonpeas     100\n",
       "rice           100\n",
       "muskmelon      100\n",
       "mango          100\n",
       "orange         100\n",
       "papaya         100\n",
       "coconut        100\n",
       "mothbeans      100\n",
       "Name: label, dtype: int64"
      ]
     },
     "execution_count": 7,
     "metadata": {},
     "output_type": "execute_result"
    }
   ],
   "source": [
    "data['label'].value_counts()"
   ]
  },
  {
   "cell_type": "markdown",
   "id": "83cbba0d",
   "metadata": {},
   "source": [
    "---"
   ]
  },
  {
   "cell_type": "markdown",
   "id": "c204a1c1",
   "metadata": {},
   "source": [
    "### EDA\n",
    "> In this will perform some statistic for all the condition for crop dataset "
   ]
  },
  {
   "cell_type": "code",
   "execution_count": 8,
   "id": "68a82a18",
   "metadata": {},
   "outputs": [
    {
     "name": "stdout",
     "output_type": "stream",
     "text": [
      "Average Ratio of Nitrogen in the Soil:    50.55\n",
      "Average Ratio of Phosphoros in the Soil: 53.36\n",
      "Average Ratio of Potassiam in the Soil:   48.15\n",
      "Average Temperature in Celcius:           25.62\n",
      "Average Relative Humidity in % :          71.48\n",
      "Average ph value for the Soil:            6.47\n",
      "Average RainFall in 1mm:                  103.46\n"
     ]
    }
   ],
   "source": [
    "print('Average Ratio of Nitrogen in the Soil:    {0:.2f}'.format(data['Nitrogen'].mean()))\n",
    "print('Average Ratio of Phosphoros in the Soil: {0:.2f}'.format(data['Phosphorus'].mean()))\n",
    "print('Average Ratio of Potassiam in the Soil:   {0:.2f}'.format(data['Potassium'].mean()))\n",
    "print('Average Temperature in Celcius:           {0:.2f}'.format(data['temperature'].mean()))\n",
    "print('Average Relative Humidity in % :          {0:.2f}'.format(data['humidity'].mean()))\n",
    "print('Average ph value for the Soil:            {0:.2f}'.format(data['ph'].mean()))\n",
    "print('Average RainFall in 1mm:                  {0:.2f}'.format(data['rainfall'].mean()))"
   ]
  },
  {
   "cell_type": "code",
   "execution_count": 9,
   "id": "650ea9ae",
   "metadata": {},
   "outputs": [
    {
     "data": {
      "text/html": [
       "<div>\n",
       "<style scoped>\n",
       "    .dataframe tbody tr th:only-of-type {\n",
       "        vertical-align: middle;\n",
       "    }\n",
       "\n",
       "    .dataframe tbody tr th {\n",
       "        vertical-align: top;\n",
       "    }\n",
       "\n",
       "    .dataframe thead th {\n",
       "        text-align: right;\n",
       "    }\n",
       "</style>\n",
       "<table border=\"1\" class=\"dataframe\">\n",
       "  <thead>\n",
       "    <tr style=\"text-align: right;\">\n",
       "      <th></th>\n",
       "      <th>Nitrogen</th>\n",
       "      <th>Phosphorus</th>\n",
       "      <th>Potassium</th>\n",
       "      <th>temperature</th>\n",
       "      <th>humidity</th>\n",
       "      <th>ph</th>\n",
       "      <th>rainfall</th>\n",
       "    </tr>\n",
       "  </thead>\n",
       "  <tbody>\n",
       "    <tr>\n",
       "      <th>count</th>\n",
       "      <td>2200.000000</td>\n",
       "      <td>2200.000000</td>\n",
       "      <td>2200.000000</td>\n",
       "      <td>2200.000000</td>\n",
       "      <td>2200.000000</td>\n",
       "      <td>2200.000000</td>\n",
       "      <td>2200.000000</td>\n",
       "    </tr>\n",
       "    <tr>\n",
       "      <th>mean</th>\n",
       "      <td>50.551818</td>\n",
       "      <td>53.362727</td>\n",
       "      <td>48.149091</td>\n",
       "      <td>25.616244</td>\n",
       "      <td>71.481779</td>\n",
       "      <td>6.469480</td>\n",
       "      <td>103.463655</td>\n",
       "    </tr>\n",
       "    <tr>\n",
       "      <th>std</th>\n",
       "      <td>36.917334</td>\n",
       "      <td>32.985883</td>\n",
       "      <td>50.647931</td>\n",
       "      <td>5.063749</td>\n",
       "      <td>22.263812</td>\n",
       "      <td>0.773938</td>\n",
       "      <td>54.958389</td>\n",
       "    </tr>\n",
       "    <tr>\n",
       "      <th>min</th>\n",
       "      <td>0.000000</td>\n",
       "      <td>5.000000</td>\n",
       "      <td>5.000000</td>\n",
       "      <td>8.825675</td>\n",
       "      <td>14.258040</td>\n",
       "      <td>3.504752</td>\n",
       "      <td>20.211267</td>\n",
       "    </tr>\n",
       "    <tr>\n",
       "      <th>25%</th>\n",
       "      <td>21.000000</td>\n",
       "      <td>28.000000</td>\n",
       "      <td>20.000000</td>\n",
       "      <td>22.769375</td>\n",
       "      <td>60.261953</td>\n",
       "      <td>5.971693</td>\n",
       "      <td>64.551686</td>\n",
       "    </tr>\n",
       "    <tr>\n",
       "      <th>50%</th>\n",
       "      <td>37.000000</td>\n",
       "      <td>51.000000</td>\n",
       "      <td>32.000000</td>\n",
       "      <td>25.598693</td>\n",
       "      <td>80.473146</td>\n",
       "      <td>6.425045</td>\n",
       "      <td>94.867624</td>\n",
       "    </tr>\n",
       "    <tr>\n",
       "      <th>75%</th>\n",
       "      <td>84.250000</td>\n",
       "      <td>68.000000</td>\n",
       "      <td>49.000000</td>\n",
       "      <td>28.561654</td>\n",
       "      <td>89.948771</td>\n",
       "      <td>6.923643</td>\n",
       "      <td>124.267508</td>\n",
       "    </tr>\n",
       "    <tr>\n",
       "      <th>max</th>\n",
       "      <td>140.000000</td>\n",
       "      <td>145.000000</td>\n",
       "      <td>205.000000</td>\n",
       "      <td>43.675493</td>\n",
       "      <td>99.981876</td>\n",
       "      <td>9.935091</td>\n",
       "      <td>298.560117</td>\n",
       "    </tr>\n",
       "  </tbody>\n",
       "</table>\n",
       "</div>"
      ],
      "text/plain": [
       "          Nitrogen   Phosphorus    Potassium  temperature     humidity  \\\n",
       "count  2200.000000  2200.000000  2200.000000  2200.000000  2200.000000   \n",
       "mean     50.551818    53.362727    48.149091    25.616244    71.481779   \n",
       "std      36.917334    32.985883    50.647931     5.063749    22.263812   \n",
       "min       0.000000     5.000000     5.000000     8.825675    14.258040   \n",
       "25%      21.000000    28.000000    20.000000    22.769375    60.261953   \n",
       "50%      37.000000    51.000000    32.000000    25.598693    80.473146   \n",
       "75%      84.250000    68.000000    49.000000    28.561654    89.948771   \n",
       "max     140.000000   145.000000   205.000000    43.675493    99.981876   \n",
       "\n",
       "                ph     rainfall  \n",
       "count  2200.000000  2200.000000  \n",
       "mean      6.469480   103.463655  \n",
       "std       0.773938    54.958389  \n",
       "min       3.504752    20.211267  \n",
       "25%       5.971693    64.551686  \n",
       "50%       6.425045    94.867624  \n",
       "75%       6.923643   124.267508  \n",
       "max       9.935091   298.560117  "
      ]
     },
     "execution_count": 9,
     "metadata": {},
     "output_type": "execute_result"
    }
   ],
   "source": [
    "data.describe()"
   ]
  },
  {
   "cell_type": "code",
   "execution_count": 10,
   "id": "d9e74d8f",
   "metadata": {},
   "outputs": [
    {
     "data": {
      "application/vnd.jupyter.widget-view+json": {
       "model_id": "d5c44547e614418589fde0e0b68c6563",
       "version_major": 2,
       "version_minor": 0
      },
      "text/plain": [
       "interactive(children=(Dropdown(description='crops', options=('kidneybeans', 'maize', 'chickpea', 'apple', 'pom…"
      ]
     },
     "metadata": {},
     "output_type": "display_data"
    }
   ],
   "source": [
    "@interact\n",
    "def summary (crops=list(data['label'].value_counts().index)):\n",
    "    x=data[data['label']==crops]\n",
    "    print(\"-----------------------------------------------\")\n",
    "    print('Statistics for Nitrogen')\n",
    "    print('Minimum Nitrogen Required :',x['Nitrogen'].min())\n",
    "    print('Average Nitrogen Required :',x['Nitrogen'].mean())\n",
    "    print('Maximum Nitrogen Required :',x['Nitrogen'].max())\n",
    "    print(\"-----------------------------------------------\")\n",
    "    print('Statistics for Phosphorous')\n",
    "    print('Minimum Phosphorous Required :',x['Phosphorus'].min())\n",
    "    print('Average Phosphorous Required :',x['Phosphorus'].mean())\n",
    "    print('Maximum Phosphorous Required :',x['Phosphorus'].max())\n",
    "    print(\"-----------------------------------------------\")\n",
    "    print('Statistics for Potassium')\n",
    "    print('Minimum Potassium Required :',x['Potassium'].min())\n",
    "    print('Average Potassium Required :',x['Potassium'].mean())\n",
    "    print('Maximum Potassium Required :',x['Potassium'].max())\n",
    "    print(\"-----------------------------------------------\")\n",
    "    print('Statistics for Temperature')\n",
    "    print('Minimum Temperature Required : {0:.2f}'.format(x['temperature'].min()))\n",
    "    print('Average Temperature Required : {0:.2f}'.format(x['temperature'].mean()))\n",
    "    print('Maximum Temperature Required : {0:.2f}'.format(x['temperature'].max()))\n",
    "    print(\"-----------------------------------------------\")\n",
    "    print('Statistics for Humadity')\n",
    "    print('Minimum Humidity Required : {0:.2f}'.format(x['humidity'].min()))\n",
    "    print('Average Humidity Required : {0:.2f}'.format(x['humidity'].mean()))\n",
    "    print('Maximum Humidity Required : {0:.2f}'.format(x['humidity'].max()))\n",
    "    print(\"-----------------------------------------------\")\n",
    "    print('Statistics for PH')\n",
    "    print('Minimum PH Required : {0:.2f}'.format(x['ph'].min()))\n",
    "    print('Average PH Required : {0:.2f}'.format(x['ph'].mean()))\n",
    "    print('Maximum PH Required : {0:.2f}'.format(x['ph'].max()))\n",
    "    print(\"-----------------------------------------------\")\n",
    "    print('Statistics for RainFall')\n",
    "    print('Minimum RainFall Required : {0:.2f}'.format(x['rainfall'].min()))\n",
    "    print('Average RainFall Required : {0:.2f}'.format(x['rainfall'].mean()))\n",
    "    print('Maximum RainFall Required : {0:.2f}'.format(x['rainfall'].max()))\n",
    "    print(\"-----------------------------------------------\")"
   ]
  },
  {
   "cell_type": "code",
   "execution_count": 11,
   "id": "08999109",
   "metadata": {},
   "outputs": [
    {
     "data": {
      "application/vnd.jupyter.widget-view+json": {
       "model_id": "b19139a2f62d45908782f55163c4c805",
       "version_major": 2,
       "version_minor": 0
      },
      "text/plain": [
       "interactive(children=(Dropdown(description='conditions', options=('Nitrogen', 'Phosphorus', 'Potassium', 'temp…"
      ]
     },
     "metadata": {},
     "output_type": "display_data"
    }
   ],
   "source": [
    "@interact\n",
    "def compare(conditions=['Nitrogen','Phosphorus','Potassium','temperature','humidity','ph','rainfall']):\n",
    "    print('Average value for',conditions,'is {0:.2f}'.format(data[conditions].mean()))\n",
    "    print(\"-----------------------------------------------\")\n",
    "    print('Rice : {0:.2f}'.format(data[(data['label']=='rice')][conditions].mean()))\n",
    "    print('Black Grams : {0:.2f}'.format(data[(data['label']=='blackgram')][conditions].mean()))\n",
    "    print('Kidney Beans : {0:.2f}'.format(data[(data['label']=='kidneybeans')][conditions].mean()))\n",
    "    print('Pigeon Peas : {0:.2f}'.format(data[(data['label']=='pigeonpeas')][conditions].mean()))\n",
    "    print('Maize : {0:.2f}'.format(data[(data['label']=='maize')][conditions].mean()))\n",
    "    print('Orange : {0:.2f}'.format(data[(data['label']=='orange')][conditions].mean()))\n",
    "    print('Coconut : {0:.2f}'.format(data[(data['label']=='coconut')][conditions].mean()))\n",
    "    print('Muskmelon : {0:.2f}'.format(data[(data['label']=='muskmelon')][conditions].mean()))\n",
    "    print('Water Melon : {0:.2f}'.format(data[(data['label']=='watermelon')][conditions].mean()))\n",
    "    print('Pome Granate : {0:.2f}'.format(data[(data['label']=='pomegranate')][conditions].mean()))\n",
    "    print('Banana : {0:.2f}'.format(data[(data['label']=='banana')][conditions].mean()))\n",
    "    print('Coffee : {0:.2f}'.format(data[(data['label']=='coffee')][conditions].mean()))\n",
    "    print('Mango : {0:.2f}'.format(data[(data['label']=='mango')][conditions].mean()))\n",
    "    print('Chick Peas : {0:.2f}'.format(data[(data['label']=='chickpea')][conditions].mean()))\n",
    "    print('Grapes : {0:.2f}'.format(data[(data['label']=='grapes')][conditions].mean()))\n",
    "    print('Jute : {0:.2f}'.format(data[(data['label']=='jute')][conditions].mean()))\n",
    "    print('Mung Beans : {0:.2f}'.format(data[(data['label']=='mungbean')][conditions].mean()))\n",
    "    print('Papaya : {0:.2f}'.format(data[(data['label']=='papaya')][conditions].mean()))\n",
    "    print('Lentil : {0:.2f}'.format(data[(data['label']=='lentil')][conditions].mean()))\n",
    "    print('Apple : {0:.2f}'.format(data[(data['label']=='apple')][conditions].mean()))\n",
    "    print('Moth Beans : {0:.2f}'.format(data[(data['label']=='mothbeans')][conditions].mean()))\n",
    "    print('Cotton : {0:.2f}'.format(data[(data['label']=='cotton')][conditions].mean()))"
   ]
  },
  {
   "cell_type": "code",
   "execution_count": 12,
   "id": "793626db",
   "metadata": {},
   "outputs": [
    {
     "data": {
      "application/vnd.jupyter.widget-view+json": {
       "model_id": "cb43fb0e4b9c49b98db2775c3201721f",
       "version_major": 2,
       "version_minor": 0
      },
      "text/plain": [
       "interactive(children=(Dropdown(description='conditions', options=('Nitrogen', 'Phosphorus', 'Potassium', 'temp…"
      ]
     },
     "metadata": {},
     "output_type": "display_data"
    }
   ],
   "source": [
    "@interact\n",
    "def compare(conditions=['Nitrogen','Phosphorus','Potassium','temperature','humidity','ph','rainfall']):\n",
    "    print(\"-----------------------------------------------\")\n",
    "    print(\"Crops which require more than Average \", conditions ,'\\n' )\n",
    "    print(data[data[conditions] > data[conditions].mean()]['label'].unique())\n",
    "    print('\\n')\n",
    "    print(\"-----------------------------------------------\")\n",
    "    print(\"Crops which require less than Average \", conditions ,'\\n' )\n",
    "    print(data[data[conditions] <= data[conditions].mean()]['label'].unique())"
   ]
  },
  {
   "cell_type": "code",
   "execution_count": 13,
   "id": "d96f99e6",
   "metadata": {},
   "outputs": [
    {
     "name": "stdout",
     "output_type": "stream",
     "text": [
      "Some interesting Facts\n",
      "-----------------------------------------------\n",
      "Crops which require very High Ratio of Nitrogen content in Soil ['cotton']\n",
      "-----------------------------------------------\n",
      "Crops which require very High Ratio of Phosphorous content in Soil ['grapes' 'apple']\n",
      "Crops which require very Low Ratio of Phosphorous content in Soil ['pomegranate' 'watermelon' 'muskmelon' 'orange' 'coconut']\n",
      "-----------------------------------------------\n",
      "Crops which require very High Ratio of Potassium content in Soil ['grapes' 'apple']\n",
      "Crops which require very Low Ratio of Potassium content in Soil ['orange']\n",
      "-----------------------------------------------\n",
      "Crops which require very High Rain Fall ['rice' 'papaya' 'coconut']\n",
      "Crops which require very Low Rain Fall ['muskmelon']\n",
      "-----------------------------------------------\n",
      "Crops which require very High Temperature ['grapes' 'papaya']\n",
      "Crops which require very Low Temperature ['grapes']\n",
      "-----------------------------------------------\n",
      "Crops which require very High Humidity ['pomegranate' 'muskmelon' 'apple' 'orange' 'papaya' 'coconut']\n",
      "Crops which require very Low Humidity ['chickpea' 'kidneybeans']\n",
      "-----------------------------------------------\n",
      "Crops which require very High PH ['mothbeans']\n",
      "Crops which require very Low PH ['mothbeans']\n"
     ]
    }
   ],
   "source": [
    "# let's find out some interesting patterns\n",
    "\n",
    "print('Some interesting Facts')\n",
    "print(\"-----------------------------------------------\")\n",
    "print('Crops which require very High Ratio of Nitrogen content in Soil',data[data['Nitrogen']>120]['label'].unique())\n",
    "print(\"-----------------------------------------------\")\n",
    "print('Crops which require very High Ratio of Phosphorous content in Soil',data[data['Phosphorus']>120]['label'].unique())\n",
    "print('Crops which require very Low Ratio of Phosphorous content in Soil',data[data['Phosphorus']<10]['label'].unique())\n",
    "print(\"-----------------------------------------------\")\n",
    "print('Crops which require very High Ratio of Potassium content in Soil',data[data['Potassium']>200]['label'].unique())\n",
    "print('Crops which require very Low Ratio of Potassium content in Soil',data[data['Potassium']<10]['label'].unique())\n",
    "print(\"-----------------------------------------------\")\n",
    "print('Crops which require very High Rain Fall',data[data['rainfall']>200]['label'].unique())\n",
    "print('Crops which require very Low Rain Fall',data[data['rainfall']<30]['label'].unique())\n",
    "print(\"-----------------------------------------------\")\n",
    "print('Crops which require very High Temperature',data[data['temperature']>40]['label'].unique())\n",
    "print('Crops which require very Low Temperature',data[data['temperature']<10]['label'].unique())\n",
    "print(\"-----------------------------------------------\")\n",
    "print('Crops which require very High Humidity',data[data['humidity']>90]['label'].unique())\n",
    "print('Crops which require very Low Humidity',data[data['humidity']<20]['label'].unique())\n",
    "print(\"-----------------------------------------------\")\n",
    "print('Crops which require very High PH',data[data['ph']>9]['label'].unique())\n",
    "print('Crops which require very Low PH',data[data['ph']<4]['label'].unique())"
   ]
  },
  {
   "cell_type": "code",
   "execution_count": 13,
   "id": "84a13612",
   "metadata": {},
   "outputs": [
    {
     "name": "stdout",
     "output_type": "stream",
     "text": [
      "Summer Crops\n",
      "['pigeonpeas' 'mothbeans' 'blackgram' 'mango' 'grapes' 'orange' 'papaya']\n",
      "-----------------------------------------------\n",
      "Winter Crops\n",
      "['maize' 'pigeonpeas' 'lentil' 'pomegranate' 'grapes' 'orange']\n",
      "-----------------------------------------------\n",
      "Rainy Crops\n",
      "['rice' 'papaya' 'coconut']\n"
     ]
    }
   ],
   "source": [
    "print('Summer Crops')\n",
    "print(data[(data['temperature']>30) & (data['humidity']>50)]['label'].unique())\n",
    "print(\"-----------------------------------------------\")\n",
    "print('Winter Crops')\n",
    "print(data[(data['temperature']<20) & (data['humidity']>30)]['label'].unique())\n",
    "print(\"-----------------------------------------------\")\n",
    "print('Rainy Crops')\n",
    "print(data[(data['rainfall']>200) & (data['humidity']>30)]['label'].unique())"
   ]
  },
  {
   "cell_type": "code",
   "execution_count": 15,
   "id": "76bfa008",
   "metadata": {},
   "outputs": [
    {
     "name": "stdout",
     "output_type": "stream",
     "text": [
      "(2200, 7)\n"
     ]
    }
   ],
   "source": [
    "from sklearn.cluster import KMeans\n",
    "\n",
    "# removing label column\n",
    "x = data.drop(['label'],axis = 1)\n",
    "\n",
    "# Selecting all values of Data\n",
    "x = x.values\n",
    "\n",
    "# Checking the Shape\n",
    "print (x.shape)"
   ]
  },
  {
   "cell_type": "code",
   "execution_count": 16,
   "id": "d8f18711",
   "metadata": {},
   "outputs": [
    {
     "name": "stdout",
     "output_type": "stream",
     "text": [
      "[18820170.463645905, 12070916.353533493, 7423970.865410885, 5337369.950298391, 4417511.116768213, 3748646.2079994995, 3103936.6816232027, 2727858.0937568415, 2374142.9467556863, 2131120.581636316]\n"
     ]
    }
   ],
   "source": [
    "# lets determine the optimum number of clusters within a DataSet\n",
    "\n",
    "sum_of_squared_distance = []\n",
    "K = range(1,11)\n",
    "for k in K:\n",
    "    km = KMeans(n_clusters=k)\n",
    "    km.fit(x)\n",
    "    sum_of_squared_distance.append(km.inertia_)\n",
    "print(sum_of_squared_distance)"
   ]
  },
  {
   "cell_type": "code",
   "execution_count": 19,
   "id": "e08f0918",
   "metadata": {},
   "outputs": [
    {
     "data": {
      "image/png": "[encoded data removed]",
      "text/plain": [
       "<Figure size 864x432 with 1 Axes>"
      ]
     },
     "metadata": {
      "needs_background": "light"
     },
     "output_type": "display_data"
    }
   ],
   "source": [
    "# ploting the information to find the optimal number of cluster  \n",
    "plt.figure(figsize=(12,6))\n",
    "font_1 = {'family':'serif','color':'red','size':20}\n",
    "font_2 = {'family':'serif','color':'green','size':15}\n",
    "plt.plot(K, sum_of_squared_distance, 'o-')\n",
    "plt.xlabel('No of Clusters',fontdict=font_2)\n",
    "plt.ylabel('sum_of_squared_distance',fontdict=font_2)\n",
    "plt.title('The Elbow Method',fontdict=font_1)\n",
    "\n",
    "plt.show()"
   ]
  },
  {
   "cell_type": "code",
   "execution_count": 20,
   "id": "3ac6ddfc",
   "metadata": {},
   "outputs": [
    {
     "name": "stdout",
     "output_type": "stream",
     "text": [
      "[0 0 0 ... 0 1 0]\n"
     ]
    }
   ],
   "source": [
    "#lets implement the KMeans algorithms to perform clustering anlysis\n",
    "\n",
    "km = KMeans(n_clusters=4)\n",
    "y_means = km.fit_predict(x)\n",
    "print(y_means)"
   ]
  },
  {
   "cell_type": "code",
   "execution_count": 22,
   "id": "a61abca4",
   "metadata": {},
   "outputs": [
    {
     "data": {
      "text/html": [
       "<div>\n",
       "<style scoped>\n",
       "    .dataframe tbody tr th:only-of-type {\n",
       "        vertical-align: middle;\n",
       "    }\n",
       "\n",
       "    .dataframe tbody tr th {\n",
       "        vertical-align: top;\n",
       "    }\n",
       "\n",
       "    .dataframe thead th {\n",
       "        text-align: right;\n",
       "    }\n",
       "</style>\n",
       "<table border=\"1\" class=\"dataframe\">\n",
       "  <thead>\n",
       "    <tr style=\"text-align: right;\">\n",
       "      <th></th>\n",
       "      <th>clusters</th>\n",
       "      <th>label</th>\n",
       "    </tr>\n",
       "  </thead>\n",
       "  <tbody>\n",
       "    <tr>\n",
       "      <th>268</th>\n",
       "      <td>2</td>\n",
       "      <td>chickpea</td>\n",
       "    </tr>\n",
       "    <tr>\n",
       "      <th>426</th>\n",
       "      <td>0</td>\n",
       "      <td>pigeonpeas</td>\n",
       "    </tr>\n",
       "    <tr>\n",
       "      <th>1364</th>\n",
       "      <td>1</td>\n",
       "      <td>watermelon</td>\n",
       "    </tr>\n",
       "    <tr>\n",
       "      <th>1847</th>\n",
       "      <td>0</td>\n",
       "      <td>coconut</td>\n",
       "    </tr>\n",
       "    <tr>\n",
       "      <th>393</th>\n",
       "      <td>2</td>\n",
       "      <td>kidneybeans</td>\n",
       "    </tr>\n",
       "    <tr>\n",
       "      <th>1846</th>\n",
       "      <td>0</td>\n",
       "      <td>coconut</td>\n",
       "    </tr>\n",
       "    <tr>\n",
       "      <th>57</th>\n",
       "      <td>0</td>\n",
       "      <td>rice</td>\n",
       "    </tr>\n",
       "    <tr>\n",
       "      <th>1917</th>\n",
       "      <td>1</td>\n",
       "      <td>cotton</td>\n",
       "    </tr>\n",
       "    <tr>\n",
       "      <th>876</th>\n",
       "      <td>2</td>\n",
       "      <td>lentil</td>\n",
       "    </tr>\n",
       "    <tr>\n",
       "      <th>250</th>\n",
       "      <td>2</td>\n",
       "      <td>chickpea</td>\n",
       "    </tr>\n",
       "  </tbody>\n",
       "</table>\n",
       "</div>"
      ],
      "text/plain": [
       "      clusters        label\n",
       "268          2     chickpea\n",
       "426          0   pigeonpeas\n",
       "1364         1   watermelon\n",
       "1847         0      coconut\n",
       "393          2  kidneybeans\n",
       "1846         0      coconut\n",
       "57           0         rice\n",
       "1917         1       cotton\n",
       "876          2       lentil\n",
       "250          2     chickpea"
      ]
     },
     "execution_count": 22,
     "metadata": {},
     "output_type": "execute_result"
    }
   ],
   "source": [
    "# lets find out the results\n",
    "a = data['label']\n",
    "y_means = pd.DataFrame(y_means)\n",
    "z = pd.concat([y_means,a],axis = 1)\n",
    "z = z.rename(columns={0:'clusters'})\n",
    "\n",
    "z.sample(10)"
   ]
  },
  {
   "cell_type": "code",
   "execution_count": 24,
   "id": "f4420b4c",
   "metadata": {},
   "outputs": [
    {
     "name": "stdout",
     "output_type": "stream",
     "text": [
      "Shape of x : (2200, 7)\n",
      "Shape of y : (2200,)\n"
     ]
    }
   ],
   "source": [
    "# lets split the dataset for predictive modeling\n",
    "y = data['label']\n",
    "x = data.drop(['label'],axis = 1)\n",
    "\n",
    "print('Shape of x :',x.shape)\n",
    "print('Shape of y :',y.shape)"
   ]
  },
  {
   "cell_type": "code",
   "execution_count": 27,
   "id": "b64e040c",
   "metadata": {},
   "outputs": [
    {
     "name": "stdout",
     "output_type": "stream",
     "text": [
      "Shape of X_train : (1760, 7)\n",
      "Shape of X_test : (440, 7)\n",
      "Shape of Y_train : (1760,)\n",
      "Shape of Y_test : (440,)\n"
     ]
    }
   ],
   "source": [
    "# lets create training and testing sets for validation of results\n",
    "from sklearn.model_selection import train_test_split\n",
    "x_train, x_test, y_train, y_test = train_test_split(x,y,test_size=0.2,random_state = 0)\n",
    "\n",
    "print('Shape of X_train :',x_train.shape)\n",
    "print('Shape of X_test :',x_test.shape)\n",
    "print('Shape of Y_train :',y_train.shape)\n",
    "print('Shape of Y_test :',y_test.shape)"
   ]
  },
  {
   "cell_type": "code",
   "execution_count": 28,
   "id": "4eff0d45",
   "metadata": {},
   "outputs": [],
   "source": [
    "# lets create a predictive model\n",
    "\n",
    "from sklearn.linear_model import LogisticRegression\n",
    "model = LogisticRegression()\n",
    "model.fit(x_train, y_train)\n",
    "y_pred = model.predict(x_test)"
   ]
  },
  {
   "cell_type": "code",
   "execution_count": 29,
   "id": "22594ce0",
   "metadata": {},
   "outputs": [
    {
     "name": "stdout",
     "output_type": "stream",
     "text": [
      "              precision    recall  f1-score   support\n",
      "\n",
      "       apple       1.00      1.00      1.00        18\n",
      "      banana       1.00      1.00      1.00        18\n",
      "   blackgram       0.86      0.82      0.84        22\n",
      "    chickpea       1.00      1.00      1.00        23\n",
      "     coconut       1.00      1.00      1.00        15\n",
      "      coffee       1.00      1.00      1.00        17\n",
      "      cotton       0.89      1.00      0.94        16\n",
      "      grapes       1.00      1.00      1.00        18\n",
      "        jute       0.84      1.00      0.91        21\n",
      " kidneybeans       1.00      1.00      1.00        20\n",
      "      lentil       0.94      0.94      0.94        17\n",
      "       maize       0.94      0.89      0.91        18\n",
      "       mango       1.00      1.00      1.00        21\n",
      "   mothbeans       0.88      0.92      0.90        25\n",
      "    mungbean       1.00      1.00      1.00        17\n",
      "   muskmelon       1.00      1.00      1.00        23\n",
      "      orange       1.00      1.00      1.00        23\n",
      "      papaya       1.00      0.95      0.98        21\n",
      "  pigeonpeas       1.00      1.00      1.00        22\n",
      " pomegranate       1.00      1.00      1.00        23\n",
      "        rice       1.00      0.84      0.91        25\n",
      "  watermelon       1.00      1.00      1.00        17\n",
      "\n",
      "    accuracy                           0.97       440\n",
      "   macro avg       0.97      0.97      0.97       440\n",
      "weighted avg       0.97      0.97      0.97       440\n",
      "\n"
     ]
    }
   ],
   "source": [
    "# lets print out the classification report also\n",
    "from sklearn.metrics import classification_report\n",
    "cr = classification_report(y_test,y_pred)\n",
    "print(cr)"
   ]
  },
  {
   "cell_type": "code",
   "execution_count": 33,
   "id": "a2959774",
   "metadata": {},
   "outputs": [],
   "source": [
    "from sklearn.metrics import accuracy_score"
   ]
  },
  {
   "cell_type": "code",
   "execution_count": 34,
   "id": "0e6a6ef6",
   "metadata": {},
   "outputs": [
    {
     "data": {
      "text/plain": [
       "0.9681818181818181"
      ]
     },
     "execution_count": 34,
     "metadata": {},
     "output_type": "execute_result"
    }
   ],
   "source": [
    "accuracy_score(y_test,y_pred)"
   ]
  },
  {
   "cell_type": "code",
   "execution_count": 35,
   "id": "309e728f",
   "metadata": {},
   "outputs": [
    {
     "name": "stdout",
     "output_type": "stream",
     "text": [
      "The Suggested Crop for given Climate Condition : ['coffee']\n"
     ]
    }
   ],
   "source": [
    "prediction = model.predict(np.array([[90,40,40,30,60,7,200]]))\n",
    "print('The Suggested Crop for given Climate Condition :',prediction)"
   ]
  },
  {
   "cell_type": "code",
   "execution_count": 36,
   "id": "01a1aee3",
   "metadata": {},
   "outputs": [],
   "source": [
    "def predict():\n",
    "    list1 = []\n",
    "    Nitrogen = input('Ratio of Nitrogen in the Soil : ')\n",
    "    list1.append(Nitrogen)\n",
    "    Phosphorous = input('Ratio of Phosphorous in the Soil : ')\n",
    "    list1.append(Phosphorous)\n",
    "    Potassiam = input('Ratio of Potassiam in the Soil :')\n",
    "    list1.append(Potassiam)\n",
    "    Temperature = input('Temperature in Celcius : ')\n",
    "    list1.append(Temperature)\n",
    "    Humidity = input('Relative Humidity in the Soil % : ')\n",
    "    list1.append(Humidity)\n",
    "    ph = input('ph value for the Soil : ')\n",
    "    list1.append(ph)\n",
    "    RainFall = input('RainFall in 1mm : ')\n",
    "    list1.append(RainFall)\n",
    "    prediction = model.predict(np.array([list1]))\n",
    "    print('The Suggested Crop for given Climate Condition :',prediction)"
   ]
  },
  {
   "cell_type": "code",
   "execution_count": 37,
   "id": "09d38be2",
   "metadata": {},
   "outputs": [
    {
     "name": "stdout",
     "output_type": "stream",
     "text": [
      "Ratio of Nitrogen in the Soil : 27\n",
      "Ratio of Phosphorous in the Soil : 120\n",
      "Ratio of Potassiam in the Soil :200\n",
      "Temperature in Celcius : 21.45\n",
      "Relative Humidity in the Soil % : 90\n",
      "ph value for the Soil : 6\n",
      "RainFall in 1mm : 116\n",
      "The Suggested Crop for given Climate Condition : ['apple']\n",
      "If you want to continue Enter Yes if Not Enter any Key : ijfg\n",
      "Good luck! We Hope  ['coffee'] make much Growth in Climate Condition you enter \n"
     ]
    }
   ],
   "source": [
    "flag = True\n",
    "while flag:\n",
    "    predict()\n",
    "    choice = input('If you want to continue Enter Yes if Not Enter any Key : ')\n",
    "    if choice == 'Yes':\n",
    "        #Potassiam = input('Ratio of Potassiam in the Soil :')\n",
    "        flag = True\n",
    "    else:\n",
    "        flag = False\n",
    "        \n",
    "        \n",
    "        print('Good luck! We Hope ', prediction ,'make much Growth in Climate Condition you enter '   )\n",
    "    "
   ]
  },
  {
   "cell_type": "code",
   "execution_count": null,
   "id": "2d435428",
   "metadata": {},
   "outputs": [],
   "source": []
  }
 ],
 "metadata": {
  "kernelspec": {
   "display_name": "Python 3 (ipykernel)",
   "language": "python",
   "name": "python3"
  },
  "language_info": {
   "codemirror_mode": {
    "name": "ipython",
    "version": 3
   },
   "file_extension": ".py",
   "mimetype": "text/x-python",
   "name": "python",
   "nbconvert_exporter": "python",
   "pygments_lexer": "ipython3",
   "version": "3.7.13"
  }
 },
 "nbformat": 4,
 "nbformat_minor": 5
}
